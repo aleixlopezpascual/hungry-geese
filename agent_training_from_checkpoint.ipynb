{
 "metadata": {
  "kernelspec": {
   "language": "python",
   "display_name": "Python 3",
   "name": "python3"
  },
  "language_info": {
   "pygments_lexer": "ipython3",
   "nbconvert_exporter": "python",
   "version": "3.6.4",
   "file_extension": ".py",
   "codemirror_mode": {
    "name": "ipython",
    "version": 3
   },
   "name": "python",
   "mimetype": "text/x-python"
  }
 },
 "nbformat_minor": 4,
 "nbformat": 4,
 "cells": [
  {
   "cell_type": "code",
   "source": [
    "!git clone https://github.com/DeNA/HandyRL.git\n",
    "%cd HandyRL\n",
    "!pip3 install -q -r requirements-dev.txt"
   ],
   "metadata": {
    "_uuid": "8f2839f25d086af736a60e9eeb907d3b93b6e0e5",
    "_cell_guid": "b1076dfc-b9ad-4769-8c92-a6c4dae69d19",
    "execution": {
     "iopub.status.busy": "2021-07-21T19:41:10.696173Z",
     "iopub.execute_input": "2021-07-21T19:41:10.696687Z",
     "iopub.status.idle": "2021-07-21T19:42:30.243944Z",
     "shell.execute_reply.started": "2021-07-21T19:41:10.696578Z",
     "shell.execute_reply": "2021-07-21T19:42:30.242973Z"
    },
    "trusted": true
   },
   "execution_count": null,
   "outputs": []
  },
  {
   "cell_type": "code",
   "source": [
    "# This is the public shared model.\n",
    "!mkdir models\n",
    "!cp /kaggle/input/handyrl-training-artifacts/1501.pth models/1501.pth"
   ],
   "metadata": {
    "execution": {
     "iopub.status.busy": "2021-07-21T19:42:30.246927Z",
     "iopub.execute_input": "2021-07-21T19:42:30.24731Z",
     "iopub.status.idle": "2021-07-21T19:42:31.582418Z",
     "shell.execute_reply.started": "2021-07-21T19:42:30.24727Z",
     "shell.execute_reply": "2021-07-21T19:42:31.573547Z"
    },
    "trusted": true
   },
   "execution_count": null,
   "outputs": []
  },
  {
   "cell_type": "markdown",
   "source": [
    "# Test training from scratch"
   ],
   "metadata": {}
  },
  {
   "cell_type": "code",
   "source": [
    "'''%%writefile config.yaml\n",
    "\n",
    "\n",
    "env_args:\n",
    "    env: 'HungryGeese'\n",
    "\n",
    "train_args:\n",
    "    model_type: geese\n",
    "    turn_based_training: False\n",
    "    observation: False\n",
    "    gamma: 0.8\n",
    "    forward_steps: 32\n",
    "    compress_steps: 4\n",
    "    entropy_regularization: 2.0e-3\n",
    "    entropy_regularization_decay: 0.3\n",
    "    update_episodes: 500\n",
    "    batch_size: 400\n",
    "    minimum_episodes: 10000\n",
    "    maximum_episodes: 500000\n",
    "    epochs: 1\n",
    "    num_batchers: 7\n",
    "    eval_rate: 0.1\n",
    "    worker:\n",
    "        num_parallel: 4\n",
    "    lambda: 0.7\n",
    "    policy_target: 'TD' # 'UPGO' 'VTRACE' 'TD' 'MC'\n",
    "    value_target: 'TD' # 'VTRACE' 'TD' 'MC'\n",
    "    eval:\n",
    "        opponent: ['random']\n",
    "    seed: 0\n",
    "    restart_epoch: 0\n",
    "\n",
    "worker_args:\n",
    "    server_address: ''\n",
    "    num_parallel: 16'''"
   ],
   "metadata": {
    "execution": {
     "iopub.status.busy": "2021-07-21T19:42:31.593887Z",
     "iopub.execute_input": "2021-07-21T19:42:31.609971Z",
     "iopub.status.idle": "2021-07-21T19:42:31.640325Z",
     "shell.execute_reply.started": "2021-07-21T19:42:31.609923Z",
     "shell.execute_reply": "2021-07-21T19:42:31.638063Z"
    },
    "trusted": true
   },
   "execution_count": null,
   "outputs": []
  },
  {
   "cell_type": "code",
   "source": "# training from scratch\n'''!python main.py --train'''",
   "metadata": {
    "execution": {
     "iopub.status.busy": "2021-07-21T19:42:31.643804Z",
     "iopub.execute_input": "2021-07-21T19:42:31.64408Z",
     "iopub.status.idle": "2021-07-21T19:42:32.105496Z",
     "shell.execute_reply.started": "2021-07-21T19:42:31.644055Z",
     "shell.execute_reply": "2021-07-21T19:42:32.104651Z"
    },
    "trusted": true
   },
   "execution_count": null,
   "outputs": []
  },
  {
   "cell_type": "markdown",
   "source": "# Training from checkpoint",
   "metadata": {}
  },
  {
   "cell_type": "code",
   "source": "%%writefile config.yaml\n\n\nenv_args:\n    env: 'HungryGeese'\n\ntrain_args:\n    model_type: geese\n    turn_based_training: False\n    observation: False\n    gamma: 0.8\n    forward_steps: 32\n    compress_steps: 4\n    entropy_regularization: 2.0e-3\n    entropy_regularization_decay: 0.3\n    update_episodes: 500\n    batch_size: 400\n    minimum_episodes: 10000\n    maximum_episodes: 500000\n    epochs: 1600\n    num_batchers: 7\n    eval_rate: 0.1\n    worker:\n        num_parallel: 4\n    lambda: 0.7\n    policy_target: 'TD' # 'UPGO' 'VTRACE' 'TD' 'MC'\n    value_target: 'TD' # 'VTRACE' 'TD' 'MC'\n    eval:\n        opponent: ['random']\n    seed: 0\n    restart_epoch: 1501\n\nworker_args:\n    server_address: ''\n    num_parallel: 16",
   "metadata": {
    "execution": {
     "iopub.status.busy": "2021-07-21T19:42:32.107002Z",
     "iopub.execute_input": "2021-07-21T19:42:32.107685Z",
     "iopub.status.idle": "2021-07-21T19:42:32.20666Z",
     "shell.execute_reply.started": "2021-07-21T19:42:32.107639Z",
     "shell.execute_reply": "2021-07-21T19:42:32.205775Z"
    },
    "trusted": true
   },
   "execution_count": null,
   "outputs": []
  },
  {
   "cell_type": "code",
   "source": "# training from checkpoint\n!python main.py --train",
   "metadata": {
    "execution": {
     "iopub.status.busy": "2021-07-21T19:42:32.208168Z",
     "iopub.execute_input": "2021-07-21T19:42:32.209859Z"
    },
    "trusted": true
   },
   "execution_count": null,
   "outputs": []
  },
  {
   "cell_type": "code",
   "source": "",
   "metadata": {},
   "execution_count": null,
   "outputs": []
  },
  {
   "cell_type": "code",
   "source": "",
   "metadata": {},
   "execution_count": null,
   "outputs": []
  }
 ]
}